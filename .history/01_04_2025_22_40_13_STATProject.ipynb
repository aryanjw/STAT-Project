{
 "cells": [
  {
   "cell_type": "markdown",
   "metadata": {},
   "source": [
    "# STAT 301 Project"
   ]
  },
  {
   "cell_type": "markdown",
   "metadata": {},
   "source": [
    "# Data Description\n",
    "\n",
    "The dataset assigned to our group is the Restaurant Revenue Predictions dataset. It includes various attributes of simulated restaurants, allowing us to forecast their performance based on multiple factors.\n",
    "\n",
    "There are 1000 observations in our dataset. The variables within the Dataset are \n",
    "- `Number of Customers` (The count of customers visiting the restaurant) (Double)\n",
    "- `Menu Price` (Average menu prices at the restaurant) (Double)\n",
    "- `Marketing Spend` (Spending on marketing activities) (Double)\n",
    "- `Cuisine Type` (Type of cuisine offered at restaurant) (Character)\n",
    "- `Average Customer Spending` (Average spending per customer) (Double)\n",
    "- `Promotions` (Binary indicator denoting whether promotions were conducted) (Double)\n",
    "- `Reviews` (Number of reviews received by the restaurant) (Double)\n",
    "- `Monthly Revenue` (Simulated monthly revenue, target variable for prediction) (Double)"
   ]
  },
  {
   "cell_type": "markdown",
   "metadata": {},
   "source": [
    "# Question"
   ]
  },
  {
   "cell_type": "markdown",
   "metadata": {},
   "source": [
    "The question that we would like to answer is:  \n",
    "\n",
    "**How does affect the count of customers for the restaurants**"
   ]
  },
  {
   "cell_type": "code",
   "execution_count": null,
   "metadata": {},
   "outputs": [],
   "source": []
  }
 ],
 "metadata": {
  "kernelspec": {
   "display_name": "Python 3 (ipykernel)",
   "language": "python",
   "name": "python3"
  },
  "language_info": {
   "codemirror_mode": {
    "name": "ipython",
    "version": 3
   },
   "file_extension": ".py",
   "mimetype": "text/x-python",
   "name": "python",
   "nbconvert_exporter": "python",
   "pygments_lexer": "ipython3",
   "version": "3.11.9"
  }
 },
 "nbformat": 4,
 "nbformat_minor": 4
}
